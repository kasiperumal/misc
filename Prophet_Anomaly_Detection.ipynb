
{
 "cells": [
  {
   "cell_type": "markdown",
   "metadata": {},
   "source": [
    "# Prophet Model for Anomaly Detection"
   ]
  },
  {
   "cell_type": "markdown",
   "metadata": {},
   "source": [
    "This notebook demonstrates how to use the Prophet model to detect anomalies in time series data, specifically API volume data with anomalies."
   ]
  },
  {
   "cell_type": "code",
   "execution_count": null,
   "metadata": {},
   "outputs": [],
   "source": [
    "# Install necessary packages\n",
    "!pip install pandas numpy matplotlib prophet"
   ]
  },
  {
   "cell_type": "code",
   "execution_count": null,
   "metadata": {},
   "outputs": [],
   "source": [
    "# Import required libraries\n",
    "import pandas as pd\n",
    "import matplotlib.pyplot as plt\n",
    "from prophet import Prophet"
   ]
  },
  {
   "cell_type": "markdown",
   "metadata": {},
   "source": [
    "### Step 1: Load the Dataset"
   ]
  },
  {
   "cell_type": "code",
   "execution_count": null,
   "metadata": {},
   "outputs": [],
   "source": [
    "# Load the dataset\n",
    "file_path = '/content/api_volume_data_with_anomalies_rounded.csv'  # Adjust this path if needed\n",
    "data = pd.read_csv(file_path)\n",
    "data.head()"
   ]
  },
  {
   "cell_type": "markdown",
   "metadata": {},
   "source": [
    "### Step 2: Prepare Data for Prophet"
   ]
  },
  {
   "cell_type": "code",
   "execution_count": null,
   "metadata": {},
   "outputs": [],
   "source": [
    "# Rename columns to fit Prophet's expected format\n",
    "data.rename(columns={'time': 'ds', 'login_count': 'y'}, inplace=True)\n",
    "data.head()"
   ]
  },
  {
   "cell_type": "markdown",
   "metadata": {},
   "source": [
    "### Step 3: Initialize and Fit the Prophet Model"
   ]
  },
  {
   "cell_type": "code",
   "execution_count": null,
   "metadata": {},
   "outputs": [],
   "source": [
    "# Initialize the model\n",
    "model = Prophet()\n",
    "model.fit(data)"
   ]
  },
  {
   "cell_type": "markdown",
   "metadata": {},
   "source": [
    "### Step 4: Make Predictions"
   ]
  },
  {
   "cell_type": "code",
   "execution_count": null,
   "metadata": {},
   "outputs": [],
   "source": [
    "# Create a dataframe for predictions\n",
    "future = model.make_future_dataframe(periods=0, freq='H')  # Only using existing data for anomaly detection\n",
    "forecast = model.predict(future)"
   ]
  },
  {
   "cell_type": "markdown",
   "metadata": {},
   "source": [
    "### Step 5: Identify Anomalies"
   ]
  },
  {
   "cell_type": "code",
   "execution_count": null,
   "metadata": {},
   "outputs": [],
   "source": [
    "# Add actual data for comparison\n",
    "forecast['actual'] = data['y'].values\n",
    "\n",
    "# Calculate anomalies: When actual values fall outside the confidence interval\n",
    "forecast['anomaly'] = (forecast['actual'] > forecast['yhat_upper']) | (forecast['actual'] < forecast['yhat_lower'])\n",
    "forecast[['ds', 'yhat', 'yhat_lower', 'yhat_upper', 'actual', 'anomaly']].head()"
   ]
  },
  {
   "cell_type": "markdown",
   "metadata": {},
   "source": [
    "### Step 6: Plot Results with Anomalies"
   ]
  },
  {
   "cell_type": "code",
   "execution_count": null,
   "metadata": {},
   "outputs": [],
   "source": [
    "# Plot actual data with Prophet's forecast and confidence intervals\n",
    "plt.figure(figsize=(14, 7))\n",
    "plt.plot(forecast['ds'], forecast['actual'], label='Actual Data', color='blue')\n",
    "plt.plot(forecast['ds'], forecast['yhat'], label='Forecast', color='green')\n",
    "plt.fill_between(forecast['ds'], forecast['yhat_lower'], forecast['yhat_upper'], color='lightgreen', alpha=0.5)\n",
    "\n",
    "# Highlight anomalies\n",
    "anomalies = forecast[forecast['anomaly']]\n",
    "plt.scatter(anomalies['ds'], anomalies['actual'], color='red', label='Anomalies', marker='o')\n",
    "\n",
    "plt.xlabel('Date')\n",
    "plt.ylabel('Login Count')\n",
    "plt.title('API Volume Anomaly Detection with Prophet')\n",
    "plt.legend()\n",
    "plt.show()"
   ]
  },
  {
   "cell_type": "markdown",
   "metadata": {},
   "source": [
    "### Step 7: Save the Results"
   ]
  },
  {
   "cell_type": "code",
   "execution_count": null,
   "metadata": {},
   "outputs": [],
   "source": [
    "# Save results with anomaly indicators\n",
    "output_path = '/content/prophet_anomaly_detection_output.csv'  # Adjust path as needed\n",
    "forecast[['ds', 'yhat', 'yhat_lower', 'yhat_upper', 'actual', 'anomaly']].to_csv(output_path, index=False)\n",
    "print(f'Results saved to {output_path}')"
   ]
  }
 ],
 "metadata": {
  "kernelspec": {
   "display_name": "Python 3",
   "language": "python",
   "name": "python3"
  },
  "language_info": {
   "codemirror_mode": {
    "name": "ipython",
    "version": 3
   },
   "file_extension": ".py",
   "mimetype": "text/x-python",
   "name": "python",
   "nbconvert_exporter": "python",
   "pygments_lexer": "ipython3",
   "version": "3.8.3"
  }
 },
 "nbformat": 4,
 "nbformat_minor": 2
}
